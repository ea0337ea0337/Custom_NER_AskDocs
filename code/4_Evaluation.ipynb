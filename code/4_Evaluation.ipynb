{
 "cells": [
  {
   "cell_type": "markdown",
   "id": "latter-terry",
   "metadata": {},
   "source": [
    "### This notebook is used for analyzing / debugging the predictions from different trained models"
   ]
  },
  {
   "cell_type": "code",
   "execution_count": 51,
   "id": "corresponding-acrylic",
   "metadata": {},
   "outputs": [],
   "source": [
    "import numpy as np\n",
    "import pandas as pd\n",
    "import datetime as dt\n",
    "# other modules, code\n",
    "from html import unescape\n",
    "import unicodedata\n",
    "import ast\n",
    "\n",
    "import spacy\n",
    "import srsly\n",
    "from spacy import displacy\n",
    "from spacy.training import docs_to_json, offsets_to_biluo_tags, biluo_tags_to_spans\n",
    "from spacy.pipeline import EntityRuler\n",
    "from spacy.tokens import DocBin\n",
    "\n",
    "from spacy.training import Example\n",
    "from spacy.util import minibatch, compounding\n",
    "from spacy.tokens import Span\n",
    "from toolz import partition_all\n",
    "\n",
    "from spacy.scorer import Scorer"
   ]
  },
  {
   "cell_type": "code",
   "execution_count": 55,
   "id": "gothic-stick",
   "metadata": {},
   "outputs": [
    {
     "data": {
      "text/html": [
       "<span class=\"tex2jax_ignore\"><div class=\"entities\" style=\"line-height: 2.5; direction: ltr\">\n",
       "<mark class=\"entity\" style=\"background: #aa9cfc; padding: 0.45em 0.6em; margin: 0 0.25em; line-height: 1; border-radius: 0.35em;\">\n",
       "    Jim\n",
       "    <span style=\"font-size: 0.8em; font-weight: bold; line-height: 1; border-radius: 0.35em; vertical-align: middle; margin-left: 0.5rem\">PERSON</span>\n",
       "</mark>\n",
       " bought \n",
       "<mark class=\"entity\" style=\"background: #e4e7d2; padding: 0.45em 0.6em; margin: 0 0.25em; line-height: 1; border-radius: 0.35em;\">\n",
       "    300\n",
       "    <span style=\"font-size: 0.8em; font-weight: bold; line-height: 1; border-radius: 0.35em; vertical-align: middle; margin-left: 0.5rem\">CARDINAL</span>\n",
       "</mark>\n",
       " shares of \n",
       "<mark class=\"entity\" style=\"background: #7aecec; padding: 0.45em 0.6em; margin: 0 0.25em; line-height: 1; border-radius: 0.35em;\">\n",
       "    Acme Corp.\n",
       "    <span style=\"font-size: 0.8em; font-weight: bold; line-height: 1; border-radius: 0.35em; vertical-align: middle; margin-left: 0.5rem\">ORG</span>\n",
       "</mark>\n",
       " in \n",
       "<mark class=\"entity\" style=\"background: #bfe1d9; padding: 0.45em 0.6em; margin: 0 0.25em; line-height: 1; border-radius: 0.35em;\">\n",
       "    2006\n",
       "    <span style=\"font-size: 0.8em; font-weight: bold; line-height: 1; border-radius: 0.35em; vertical-align: middle; margin-left: 0.5rem\">DATE</span>\n",
       "</mark>\n",
       ".</div></span>"
      ],
      "text/plain": [
       "<IPython.core.display.HTML object>"
      ]
     },
     "metadata": {},
     "output_type": "display_data"
    }
   ],
   "source": [
    "nlp = spacy.load('en_core_web_sm')\n",
    "\n",
    "txt = 'Jim bought 300 shares of Acme Corp. in 2006.'\n",
    "\n",
    "displacy.render(nlp(txt), style='ent') # Default spacy model"
   ]
  },
  {
   "cell_type": "markdown",
   "id": "unexpected-repeat",
   "metadata": {},
   "source": [
    "## COPIED CODE FROM 3_Model_Training.ipynb; FIX IT!"
   ]
  },
  {
   "cell_type": "code",
   "execution_count": 2,
   "id": "forward-thriller",
   "metadata": {},
   "outputs": [],
   "source": [
    "def get_list_from_docbin(filename):\n",
    "    nlp = spacy.blank('en')\n",
    "    nlp.add_pipe('sentencizer')\n",
    "    doc_bin = DocBin().from_disk(filename)\n",
    "\n",
    "    list_data = []\n",
    "    labels = set()\n",
    "    for doc in doc_bin.get_docs(nlp.vocab):\n",
    "        spans = [(ent.start_char, ent.end_char, ent.label_) for ent in doc.ents]\n",
    "        list_data.append((doc.text, {'entities': spans}))\n",
    "        for ent in doc.ents:\n",
    "            labels.add(ent.label_)\n",
    "    return (list_data, labels)"
   ]
  },
  {
   "cell_type": "markdown",
   "id": "optical-singles",
   "metadata": {},
   "source": [
    "### Function to generate metrics for single annotation example for specified model"
   ]
  },
  {
   "cell_type": "code",
   "execution_count": 3,
   "id": "weird-polish",
   "metadata": {},
   "outputs": [],
   "source": [
    "def get_example_score(model, raw_text, annotations):\n",
    "    # create doc object with annotations based on model used\n",
    "    doc = model(raw_text)\n",
    "    # create spacy example object\n",
    "    example = Example.from_dict(doc, {\"entities\": annotations['entities']})\n",
    "    # get the doc with reference annotations\n",
    "    doc_ref = example.reference\n",
    "    # Provided scoring pipeline\n",
    "    scorer = Scorer(model)\n",
    "    scores = scorer.score([example])\n",
    "    #print (scores)\n",
    "    return (scores, doc_ref)"
   ]
  },
  {
   "cell_type": "markdown",
   "id": "temporal-cardiff",
   "metadata": {},
   "source": [
    "### Initialize basic arguments"
   ]
  },
  {
   "cell_type": "code",
   "execution_count": 4,
   "id": "heavy-genome",
   "metadata": {},
   "outputs": [],
   "source": [
    "# Set seed\n",
    "np.random.seed(42)\n",
    "months = ['May', 'Jun', 'Jul', 'Aug', 'Sep', 'Oct']\n",
    "n_start = 0\n",
    "n_end = 80 #40\n",
    "# number of months * number of examples from each month (n_end  - n_start); n_end excluded\n",
    "model_suffix = len(months) * (n_end - n_start)\n",
    "sub_group = 'train'"
   ]
  },
  {
   "cell_type": "markdown",
   "id": "german-seating",
   "metadata": {},
   "source": [
    "### Annotated files generated from Doccano & rehearsal data notebook"
   ]
  },
  {
   "cell_type": "code",
   "execution_count": 5,
   "id": "electric-fight",
   "metadata": {},
   "outputs": [],
   "source": [
    "# SET this flag to False if not using SYMPTOM as part of NER model\n",
    "keep_symptom_ent = False\n",
    "\n",
    "if not keep_symptom_ent:\n",
    "    model_suffix = str(model_suffix) + '_NS_v2'\n",
    "\n",
    "# final annotated output from Doccano\n",
    "train_filename = './data/json/nsamples_480_v2_2021_6m_doccano.jsonl' #'./nsamples_240_2021_6m_doccano.jsonl'\n",
    "val_filename = './data/json/val_nsamples_240_doccano.jsonl'\n",
    "\n",
    "# annotated rehearsal filenames from generate_rehearsal_data.ipynb\n",
    "rehearsal_train_filename = './data/json/nlp_rehearsal_1000.json'\n",
    "rehearsal_val_filename = './data/json/test_nlp_rehearsal_1000.json'\n",
    "\n",
    "old_ptrns_fname = f'./data/patterns/old_patterns_240.csv' #f'./old_patterns_60.csv'\n",
    "new_ptrns_fname = f'./data/patterns/old_patterns_{model_suffix}.csv'"
   ]
  },
  {
   "cell_type": "markdown",
   "id": "supposed-intersection",
   "metadata": {},
   "source": [
    "### binary data sets generated from preprocessing"
   ]
  },
  {
   "cell_type": "code",
   "execution_count": 6,
   "id": "foreign-settlement",
   "metadata": {},
   "outputs": [],
   "source": [
    "docbin_train = f'./outputs/train_n_{model_suffix}.spacy'\n",
    "docbin_val = f'./outputs/val_n_240_NS.spacy' #f'./outputs/val_n_{model_suffix}.spacy'\n",
    "docbin_rhrsl_train = f'./outputs/rhrsl_train_n_240_NS.spacy' #f'./outputs/rhrsl_train_n_{model_suffix}.spacy'\n",
    "docbin_rhrsl_val = f'./outputs/rhrsl_val_n_240_NS.spacy' #f'./outputs/rhrsl_val_n_{model_suffix}.spacy'\n",
    "\n",
    "epochs = 40"
   ]
  },
  {
   "cell_type": "code",
   "execution_count": 7,
   "id": "appointed-stockholm",
   "metadata": {},
   "outputs": [],
   "source": [
    "train_data, _ = get_list_from_docbin(docbin_train)\n",
    "val_data, _ = get_list_from_docbin(docbin_val)"
   ]
  },
  {
   "cell_type": "code",
   "execution_count": 8,
   "id": "prepared-paradise",
   "metadata": {},
   "outputs": [],
   "source": [
    "train_text = []\n",
    "for raw_text, annotations in train_data:\n",
    "    train_text.append(raw_text)\n",
    "\n",
    "val_text = []\n",
    "for raw_text, annotations in val_data:\n",
    "    val_text.append(raw_text)    "
   ]
  },
  {
   "cell_type": "markdown",
   "id": "median-salon",
   "metadata": {},
   "source": [
    "### Load the trained models here"
   ]
  },
  {
   "cell_type": "code",
   "execution_count": 9,
   "id": "minus-belief",
   "metadata": {},
   "outputs": [],
   "source": [
    "# load trained models\n",
    "### Model 0: Blank spacy model using patterns with EntityRuler\n",
    "model_0 = spacy.load(f'./models/model_0_n_{model_suffix}/')\n",
    "\n",
    "### Model 1: pre-trained spacy model trained using training data AND revision data\n",
    "model_1 = spacy.load(f'./models/model_1_n_{model_suffix}/')\n",
    "\n",
    "# ### Model 2: pre-trained spacy model trained using training data only (1 epoch, catastrophic forgetting)\n",
    "# model_2 = spacy.load(f'./models/model_2_n_{model_suffix}/')\n",
    "\n",
    "### Model 3: Blank spacy model trained using training data only\n",
    "model_3 = spacy.load(f'./models/model_3_n_{model_suffix}/')\n",
    "\n",
    "# ### Model 4: pre-trained spacy model using patterns with EntityRuler\n",
    "# model_4 = spacy.load(f'./models/model_4_n_{model_suffix}/')\n",
    "\n",
    "### Model 5: pre-trained spacy model\n",
    "model_5 = spacy.load('en_core_web_sm')\n",
    "\n",
    "### Model 1, prev version: pre-trained spacy model trained using training data AND revision data\n",
    "model_1_NS = spacy.load(f'./models/model_1_n_480_NS/')"
   ]
  },
  {
   "cell_type": "markdown",
   "id": "indonesian-beverage",
   "metadata": {},
   "source": [
    "## MODEL EVALUATION"
   ]
  },
  {
   "cell_type": "code",
   "execution_count": 10,
   "id": "unnecessary-pepper",
   "metadata": {},
   "outputs": [],
   "source": [
    "colors = {'DRUG': 'PINK', 'SYMPTOM': 'LIGHTGREEN', 'DISEASE': 'LIGHTBLUE'}\n",
    "options = {\"ents\": [\"DRUG\", \"SYMPTOM\", \"DISEASE\"], \"colors\": colors}"
   ]
  },
  {
   "cell_type": "code",
   "execution_count": 11,
   "id": "binding-peace",
   "metadata": {},
   "outputs": [],
   "source": [
    "# change index and run cells below to see output from pre-trained models\n",
    "idx = np.random.randint(0, len(train_data))\n",
    "txt, annotations = train_data[idx]\n",
    "doc = model_5(txt) #default spacy model\n",
    "example = Example.from_dict(doc, {\"entities\": annotations['entities']})\n",
    "doc_ref = example.reference"
   ]
  },
  {
   "cell_type": "code",
   "execution_count": 12,
   "id": "adjacent-popularity",
   "metadata": {},
   "outputs": [],
   "source": [
    "# displacy.render(doc_ref, style='ent', options=options)"
   ]
  },
  {
   "cell_type": "markdown",
   "id": "great-mixture",
   "metadata": {},
   "source": [
    "### MODEL 1 Sample output: fine-tune spacy model trained using pseudo rehearsal"
   ]
  },
  {
   "cell_type": "code",
   "execution_count": 13,
   "id": "formed-firewall",
   "metadata": {
    "scrolled": false
   },
   "outputs": [],
   "source": [
    "# txt = \"At least 55 reports of hurricane-force thunderstorm wind gusts of over 75 mph were tracked across the Great Plains and Midwest, according to the National Weather Service Storm Prediction Center, setting a one-day national record.\"\n",
    "# displacy.render(model_1(txt), style='ent')"
   ]
  },
  {
   "cell_type": "markdown",
   "id": "eleven-october",
   "metadata": {},
   "source": [
    "### MODEL 3 Sample output: Blank spacy model trained from scratch"
   ]
  },
  {
   "cell_type": "code",
   "execution_count": 14,
   "id": "respiratory-monitoring",
   "metadata": {},
   "outputs": [],
   "source": [
    "# displacy.render(model_3(txt), style='ent', options=options)"
   ]
  },
  {
   "cell_type": "markdown",
   "id": "personalized-chancellor",
   "metadata": {},
   "source": [
    "### MODEL 4 Sample output: Rule-based model plus pre-trained spacy model"
   ]
  },
  {
   "cell_type": "code",
   "execution_count": 15,
   "id": "educated-brake",
   "metadata": {},
   "outputs": [],
   "source": [
    "# displacy.render(model_4(txt), style='ent')"
   ]
  },
  {
   "cell_type": "markdown",
   "id": "covered-watershed",
   "metadata": {},
   "source": [
    "### MODEL 5 Sample output: Baseline pre-trained spacy model"
   ]
  },
  {
   "cell_type": "code",
   "execution_count": 16,
   "id": "changing-contributor",
   "metadata": {},
   "outputs": [],
   "source": [
    "# 'Apple is looking at buying U.K. startup for $1 billion'\n",
    "# Model Kate Moss walks Louis Vuitton RTW Fall 2013. Golden girl model Kate Moss wowed in her usual chic way as she walked the Louis Vuitton Ready-To-Wear Fall Collection 2013 fashion show. Moss continues to give us a close look at her ability to inspire while wearing all things gorgeous. Yes, absolutely Louis Vuitton gorgeous.'\n",
    "# displacy.render(model_5(txt), style='ent')"
   ]
  },
  {
   "cell_type": "markdown",
   "id": "willing-castle",
   "metadata": {},
   "source": [
    "## Debugging Model output"
   ]
  },
  {
   "cell_type": "markdown",
   "id": "lovely-bulletin",
   "metadata": {},
   "source": [
    "### Filter examples by comparing output of different models"
   ]
  },
  {
   "cell_type": "code",
   "execution_count": 17,
   "id": "violent-distribution",
   "metadata": {},
   "outputs": [],
   "source": [
    "# # Get only text data\n",
    "# # tmp_df = pd.DataFrame(train_text, columns=['text']) #TRAIN\n",
    "# tmp_df = pd.DataFrame(val_text, columns=['text']) #VALIDATION\n",
    "# # Combine all entities detected using blank spacy model\n",
    "# tmp_df['model1'] = tmp_df['text'].map(lambda x: ','.join([str(e) for e in model_1(x).ents]))\n",
    "# # Copmbine all entities detected using blank rule-based model\n",
    "# tmp_df['model0'] = tmp_df['text'].map(lambda x: ','.join([str(e) for e in model_0(x).ents]))\n",
    "# # True if text has 'DRUG' entity using rule-based model\n",
    "# tmp_df['model0_has_drug'] = tmp_df['text'].map(lambda x: any([True if e.label_ == 'DRUG' else False for e in model_0(x).ents]))\n",
    "# # select entities where predictions are different AND rule-based model detected a DRUG entity in its text\n",
    "# tmp_df1 = tmp_df.loc[(tmp_df['model0'] != tmp_df['model1']) & (tmp_df['model0_has_drug'])]"
   ]
  },
  {
   "cell_type": "code",
   "execution_count": 18,
   "id": "voluntary-register",
   "metadata": {},
   "outputs": [],
   "source": [
    "# Get only text data\n",
    "# tmp_df = pd.DataFrame(train_text, columns=['text']) #TRAIN\n",
    "tmp_df = pd.DataFrame(val_text, columns=['text']) #VALIDATION\n",
    "# Combine all entities detected using blank spacy model\n",
    "tmp_df['model1_NS'] = tmp_df['text'].map(lambda x: ','.join(sorted([str(e) for e in model_1_NS(x).ents])))\n",
    "# Copmbine all entities detected using blank rule-based model\n",
    "tmp_df['model1_NS_v2'] = tmp_df['text'].map(lambda x: ','.join(sorted([str(e) for e in model_1(x).ents])))\n",
    "# True if text has 'DRUG' entity using rule-based model\n",
    "tmp_df['model1_NS_drug'] = tmp_df['text'].map(lambda x: any([True if e.label_ == 'DRUG' else False for e in model_1_NS(x).ents]))\n",
    "# select entities where predictions are different AND rule-based model detected a DRUG entity in its text\n",
    "tmp_df1 = tmp_df.loc[(tmp_df['model1_NS'] != tmp_df['model1_NS_v2']) & (tmp_df['model1_NS_drug'])]"
   ]
  },
  {
   "cell_type": "markdown",
   "id": "through-hudson",
   "metadata": {},
   "source": [
    "### Select random example from filtered dataframe and review model output\n",
    "### Get evaluation metrics for above example using spacy scorer object"
   ]
  },
  {
   "cell_type": "code",
   "execution_count": 40,
   "id": "greenhouse-cuisine",
   "metadata": {},
   "outputs": [],
   "source": [
    "idx = np.random.randint(0, tmp_df1.shape[0])\n",
    "txt = tmp_df1.iloc[idx]['text']\n",
    "\n",
    "# reset df index\n",
    "tmpd_df2 = tmp_df1.reset_index()\n",
    "\n",
    "# get the index in the original df\n",
    "idx_orig = tmpd_df2.iloc[idx]['index']\n",
    "\n",
    "# ## ***DEBUG***\n",
    "# # The following indices where model_1_480_NS predicts DRUG none present in annotations\n",
    "# # 21,  35,  55,  70, 106, 107, 111, 140, 169, 183\n",
    "# #Indices where model_1_480_NS predicts DRUG entities with higher recall than model_1_480_NS_v2\n",
    "# # 18, 23, 27, 33, 38, 43, 44, 49, 66, 67, 76, 80, 94, 101, 139, 148, 151, 157, \n",
    "# # 162, 164, 168, 173, 174, 186, 189, 191, 194, 207, 208\t\n",
    "# idx_orig = 49\n",
    "\n",
    "# raw_text, annotations = train_data[idx_orig] #TRAIN\n",
    "raw_text, annotations = val_data[idx_orig] #VALIDATION\n",
    "# ## ***DEBUG***\n",
    "# txt = raw_text\n",
    "\n",
    "score_m0, doc_ref = get_example_score(model_0, raw_text, annotations)\n",
    "score_m1, _ = get_example_score(model_1, raw_text, annotations)\n",
    "score_m1_NS, _ = get_example_score(model_1_NS, raw_text, annotations)\n",
    "score_m3, _ = get_example_score(model_3, raw_text, annotations)"
   ]
  },
  {
   "cell_type": "markdown",
   "id": "hungarian-sucking",
   "metadata": {},
   "source": [
    "#### Rule-based"
   ]
  },
  {
   "cell_type": "code",
   "execution_count": 41,
   "id": "reported-separation",
   "metadata": {},
   "outputs": [
    {
     "data": {
      "text/html": [
       "<div>\n",
       "<style scoped>\n",
       "    .dataframe tbody tr th:only-of-type {\n",
       "        vertical-align: middle;\n",
       "    }\n",
       "\n",
       "    .dataframe tbody tr th {\n",
       "        vertical-align: top;\n",
       "    }\n",
       "\n",
       "    .dataframe thead th {\n",
       "        text-align: right;\n",
       "    }\n",
       "</style>\n",
       "<table border=\"1\" class=\"dataframe\">\n",
       "  <thead>\n",
       "    <tr style=\"text-align: right;\">\n",
       "      <th></th>\n",
       "      <th>DRUG</th>\n",
       "      <th>DISEASE</th>\n",
       "    </tr>\n",
       "  </thead>\n",
       "  <tbody>\n",
       "    <tr>\n",
       "      <th>f</th>\n",
       "      <td>0.666667</td>\n",
       "      <td>0.0</td>\n",
       "    </tr>\n",
       "    <tr>\n",
       "      <th>p</th>\n",
       "      <td>1.000000</td>\n",
       "      <td>0.0</td>\n",
       "    </tr>\n",
       "    <tr>\n",
       "      <th>r</th>\n",
       "      <td>0.500000</td>\n",
       "      <td>0.0</td>\n",
       "    </tr>\n",
       "  </tbody>\n",
       "</table>\n",
       "</div>"
      ],
      "text/plain": [
       "       DRUG  DISEASE\n",
       "f  0.666667      0.0\n",
       "p  1.000000      0.0\n",
       "r  0.500000      0.0"
      ]
     },
     "execution_count": 41,
     "metadata": {},
     "output_type": "execute_result"
    }
   ],
   "source": [
    "# only looking at performance for 2 entities\n",
    "pd.DataFrame(score_m0['ents_per_type'])[['DRUG', 'DISEASE']].sort_index()"
   ]
  },
  {
   "cell_type": "markdown",
   "id": "collective-rehabilitation",
   "metadata": {},
   "source": [
    "#### Model1_NS_v2"
   ]
  },
  {
   "cell_type": "code",
   "execution_count": 42,
   "id": "printable-fairy",
   "metadata": {},
   "outputs": [
    {
     "data": {
      "text/html": [
       "<div>\n",
       "<style scoped>\n",
       "    .dataframe tbody tr th:only-of-type {\n",
       "        vertical-align: middle;\n",
       "    }\n",
       "\n",
       "    .dataframe tbody tr th {\n",
       "        vertical-align: top;\n",
       "    }\n",
       "\n",
       "    .dataframe thead th {\n",
       "        text-align: right;\n",
       "    }\n",
       "</style>\n",
       "<table border=\"1\" class=\"dataframe\">\n",
       "  <thead>\n",
       "    <tr style=\"text-align: right;\">\n",
       "      <th></th>\n",
       "      <th>DRUG</th>\n",
       "      <th>DISEASE</th>\n",
       "    </tr>\n",
       "  </thead>\n",
       "  <tbody>\n",
       "    <tr>\n",
       "      <th>f</th>\n",
       "      <td>1.0</td>\n",
       "      <td>1.0</td>\n",
       "    </tr>\n",
       "    <tr>\n",
       "      <th>p</th>\n",
       "      <td>1.0</td>\n",
       "      <td>1.0</td>\n",
       "    </tr>\n",
       "    <tr>\n",
       "      <th>r</th>\n",
       "      <td>1.0</td>\n",
       "      <td>1.0</td>\n",
       "    </tr>\n",
       "  </tbody>\n",
       "</table>\n",
       "</div>"
      ],
      "text/plain": [
       "   DRUG  DISEASE\n",
       "f   1.0      1.0\n",
       "p   1.0      1.0\n",
       "r   1.0      1.0"
      ]
     },
     "execution_count": 42,
     "metadata": {},
     "output_type": "execute_result"
    }
   ],
   "source": [
    "# only looking at performance for 2 entities\n",
    "pd.DataFrame(score_m1['ents_per_type'])[['DRUG', 'DISEASE']].sort_index()"
   ]
  },
  {
   "cell_type": "markdown",
   "id": "known-phenomenon",
   "metadata": {},
   "source": [
    "#### Model1_NS"
   ]
  },
  {
   "cell_type": "code",
   "execution_count": 43,
   "id": "tested-simulation",
   "metadata": {},
   "outputs": [
    {
     "data": {
      "text/html": [
       "<div>\n",
       "<style scoped>\n",
       "    .dataframe tbody tr th:only-of-type {\n",
       "        vertical-align: middle;\n",
       "    }\n",
       "\n",
       "    .dataframe tbody tr th {\n",
       "        vertical-align: top;\n",
       "    }\n",
       "\n",
       "    .dataframe thead th {\n",
       "        text-align: right;\n",
       "    }\n",
       "</style>\n",
       "<table border=\"1\" class=\"dataframe\">\n",
       "  <thead>\n",
       "    <tr style=\"text-align: right;\">\n",
       "      <th></th>\n",
       "      <th>DRUG</th>\n",
       "      <th>DISEASE</th>\n",
       "    </tr>\n",
       "  </thead>\n",
       "  <tbody>\n",
       "    <tr>\n",
       "      <th>f</th>\n",
       "      <td>1.0</td>\n",
       "      <td>0.5</td>\n",
       "    </tr>\n",
       "    <tr>\n",
       "      <th>p</th>\n",
       "      <td>1.0</td>\n",
       "      <td>0.5</td>\n",
       "    </tr>\n",
       "    <tr>\n",
       "      <th>r</th>\n",
       "      <td>1.0</td>\n",
       "      <td>0.5</td>\n",
       "    </tr>\n",
       "  </tbody>\n",
       "</table>\n",
       "</div>"
      ],
      "text/plain": [
       "   DRUG  DISEASE\n",
       "f   1.0      0.5\n",
       "p   1.0      0.5\n",
       "r   1.0      0.5"
      ]
     },
     "execution_count": 43,
     "metadata": {},
     "output_type": "execute_result"
    }
   ],
   "source": [
    "# only looking at performance for 2 entities\n",
    "pd.DataFrame(score_m1_NS['ents_per_type'])[['DRUG', 'DISEASE']].sort_index()"
   ]
  },
  {
   "cell_type": "code",
   "execution_count": 44,
   "id": "advance-colony",
   "metadata": {},
   "outputs": [],
   "source": [
    "# only looking at performance for 2 entities\n",
    "# pd.DataFrame(score_m3['ents_per_type'])[['DRUG', 'DISEASE']].sort_index()"
   ]
  },
  {
   "cell_type": "code",
   "execution_count": 45,
   "id": "fourth-message",
   "metadata": {},
   "outputs": [
    {
     "data": {
      "text/plain": [
       "209"
      ]
     },
     "execution_count": 45,
     "metadata": {},
     "output_type": "execute_result"
    }
   ],
   "source": [
    "idx_orig"
   ]
  },
  {
   "cell_type": "markdown",
   "id": "encouraging-ideal",
   "metadata": {},
   "source": [
    "### Annotated Reference doc"
   ]
  },
  {
   "cell_type": "code",
   "execution_count": 46,
   "id": "future-enhancement",
   "metadata": {
    "scrolled": false
   },
   "outputs": [
    {
     "data": {
      "text/html": [
       "<span class=\"tex2jax_ignore\"><div class=\"entities\" style=\"line-height: 2.5; direction: ltr\">\n",
       "<mark class=\"entity\" style=\"background: LIGHTBLUE; padding: 0.45em 0.6em; margin: 0 0.25em; line-height: 1; border-radius: 0.35em;\">\n",
       "    Chronic Appendicitis\n",
       "    <span style=\"font-size: 0.8em; font-weight: bold; line-height: 1; border-radius: 0.35em; vertical-align: middle; margin-left: 0.5rem\">DISEASE</span>\n",
       "</mark>\n",
       " or Constipation? 24 year old Male 185lbs, white. No medical history, currently taking \n",
       "<mark class=\"entity\" style=\"background: PINK; padding: 0.45em 0.6em; margin: 0 0.25em; line-height: 1; border-radius: 0.35em;\">\n",
       "    lexapro\n",
       "    <span style=\"font-size: 0.8em; font-weight: bold; line-height: 1; border-radius: 0.35em; vertical-align: middle; margin-left: 0.5rem\">DRUG</span>\n",
       "</mark>\n",
       " 10mg, probiotic  \n",
       "<mark class=\"entity\" style=\"background: PINK; padding: 0.45em 0.6em; margin: 0 0.25em; line-height: 1; border-radius: 0.35em;\">\n",
       "    ashwaghanda\n",
       "    <span style=\"font-size: 0.8em; font-weight: bold; line-height: 1; border-radius: 0.35em; vertical-align: middle; margin-left: 0.5rem\">DRUG</span>\n",
       "</mark>\n",
       " daily.</br>I have been having an ongoing issue of lower right side pain. First occurrence was 2 years ago, second was 6 months ago and third is now. Each occurrence will last a few weeks to a month. Symptoms are lower right side abdominal pain that moves from typical appendix location to my actual side and decreased appetite. No rebound pain but definitely some pain when the location receives a hard press but no pain on the rebound. Pain level hovers around a 5</br>I have been to the ER twice, an urgent care and have seen my pcp and no one can find any acute findings. I have had two CT scans that are clear and the   points out the appendix and says it looks normal. Blood tests have also been normal with slightly elevated WBCs.</br>All the doctors say I am likely experiencing constipation or gas but I always have a BM at least once a day and do not feel bloated or constipated  but also I don't know what constipation pain in this area is supposed to feel like as I have never dealt with that before. The only other thing I can think of is if this is the debated \n",
       "<mark class=\"entity\" style=\"background: LIGHTBLUE; padding: 0.45em 0.6em; margin: 0 0.25em; line-height: 1; border-radius: 0.35em;\">\n",
       "    chronic appendicitis\n",
       "    <span style=\"font-size: 0.8em; font-weight: bold; line-height: 1; border-radius: 0.35em; vertical-align: middle; margin-left: 0.5rem\">DISEASE</span>\n",
       "</mark>\n",
       " but I would think it would still show up on a CT scan? Also looking for recommendations on any other conditions I should be looking into.</br>I went to a gastro finally and they are going to do an ultrasound, more blood and a colonoscopy but I have to wait a few weeks to get all that done, so I'm just looking for any advice on more tests to iron out this pain and get it solved. It has been effecting my work, personal life and mental health greatly, thank you and sorry for the long read!</div></span>"
      ],
      "text/plain": [
       "<IPython.core.display.HTML object>"
      ]
     },
     "metadata": {},
     "output_type": "display_data"
    }
   ],
   "source": [
    "displacy.render(doc_ref, style='ent', options=options) #REFERENCE"
   ]
  },
  {
   "cell_type": "markdown",
   "id": "owned-outside",
   "metadata": {},
   "source": [
    "### Model 0: Rule-Based Model"
   ]
  },
  {
   "cell_type": "code",
   "execution_count": 47,
   "id": "analyzed-kruger",
   "metadata": {},
   "outputs": [
    {
     "data": {
      "text/html": [
       "<span class=\"tex2jax_ignore\"><div class=\"entities\" style=\"line-height: 2.5; direction: ltr\">Chronic Appendicitis or Constipation? 24 year old Male 185lbs, white. No medical history, currently taking \n",
       "<mark class=\"entity\" style=\"background: PINK; padding: 0.45em 0.6em; margin: 0 0.25em; line-height: 1; border-radius: 0.35em;\">\n",
       "    lexapro\n",
       "    <span style=\"font-size: 0.8em; font-weight: bold; line-height: 1; border-radius: 0.35em; vertical-align: middle; margin-left: 0.5rem\">DRUG</span>\n",
       "</mark>\n",
       " 10mg, probiotic  ashwaghanda daily.</br>I have been having an ongoing issue of lower right side pain. First occurrence was 2 years ago, second was 6 months ago and third is now. Each occurrence will last a few weeks to a month. Symptoms are lower right side abdominal pain that moves from typical appendix location to my actual side and decreased appetite. No rebound pain but definitely some pain when the location receives a hard press but no pain on the rebound. Pain level hovers around a 5</br>I have been to the ER twice, an urgent care and have seen my pcp and no one can find any acute findings. I have had two CT scans that are clear and the   points out the appendix and says it looks normal. Blood tests have also been normal with slightly elevated WBCs.</br>All the doctors say I am likely experiencing constipation or gas but I always have a BM at least once a day and do not feel bloated or constipated  but also I don't know what constipation pain in this area is supposed to feel like as I have never dealt with that before. The only other thing I can think of is if this is the debated chronic appendicitis but I would think it would still show up on a CT scan? Also looking for recommendations on any other conditions I should be looking into.</br>I went to a gastro finally and they are going to do an ultrasound, more blood and a colonoscopy but I have to wait a few weeks to get all that done, so I'm just looking for any advice on more tests to iron out this pain and get it solved. It has been effecting my work, personal life and mental health greatly, thank you and sorry for the long read!</div></span>"
      ],
      "text/plain": [
       "<IPython.core.display.HTML object>"
      ]
     },
     "metadata": {},
     "output_type": "display_data"
    }
   ],
   "source": [
    "displacy.render(model_0(txt), style='ent', options=options) #RULE-BASED"
   ]
  },
  {
   "cell_type": "markdown",
   "id": "gorgeous-columbia",
   "metadata": {},
   "source": [
    "### Model 3: Blank ML Model"
   ]
  },
  {
   "cell_type": "code",
   "execution_count": 48,
   "id": "civilian-military",
   "metadata": {
    "scrolled": false
   },
   "outputs": [],
   "source": [
    "# displacy.render(model_3(txt), style='ent', options=options) #BLANK ML MODEL"
   ]
  },
  {
   "cell_type": "markdown",
   "id": "characteristic-thing",
   "metadata": {},
   "source": [
    "### Model 1: pre-trained spacy model with trained with pseudo rehearsal"
   ]
  },
  {
   "cell_type": "code",
   "execution_count": 49,
   "id": "cleared-adventure",
   "metadata": {},
   "outputs": [
    {
     "data": {
      "text/html": [
       "<span class=\"tex2jax_ignore\"><div class=\"entities\" style=\"line-height: 2.5; direction: ltr\">\n",
       "<mark class=\"entity\" style=\"background: LIGHTBLUE; padding: 0.45em 0.6em; margin: 0 0.25em; line-height: 1; border-radius: 0.35em;\">\n",
       "    Chronic Appendicitis\n",
       "    <span style=\"font-size: 0.8em; font-weight: bold; line-height: 1; border-radius: 0.35em; vertical-align: middle; margin-left: 0.5rem\">DISEASE</span>\n",
       "</mark>\n",
       " or Constipation? 24 year old Male 185lbs, white. No medical history, currently taking \n",
       "<mark class=\"entity\" style=\"background: PINK; padding: 0.45em 0.6em; margin: 0 0.25em; line-height: 1; border-radius: 0.35em;\">\n",
       "    lexapro\n",
       "    <span style=\"font-size: 0.8em; font-weight: bold; line-height: 1; border-radius: 0.35em; vertical-align: middle; margin-left: 0.5rem\">DRUG</span>\n",
       "</mark>\n",
       " 10mg, probiotic  \n",
       "<mark class=\"entity\" style=\"background: PINK; padding: 0.45em 0.6em; margin: 0 0.25em; line-height: 1; border-radius: 0.35em;\">\n",
       "    ashwaghanda\n",
       "    <span style=\"font-size: 0.8em; font-weight: bold; line-height: 1; border-radius: 0.35em; vertical-align: middle; margin-left: 0.5rem\">DRUG</span>\n",
       "</mark>\n",
       " daily.</br>I have been having an ongoing issue of lower right side pain. First occurrence was 2 years ago, second was 6 months ago and third is now. Each occurrence will last a few weeks to a month. Symptoms are lower right side abdominal pain that moves from typical appendix location to my actual side and decreased appetite. No rebound pain but definitely some pain when the location receives a hard press but no pain on the rebound. Pain level hovers around a 5</br>I have been to the ER twice, an urgent care and have seen my pcp and no one can find any acute findings. I have had two CT scans that are clear and the   points out the appendix and says it looks normal. Blood tests have also been normal with slightly elevated WBCs.</br>All the doctors say I am likely experiencing constipation or gas but I always have a BM at least once a day and do not feel bloated or constipated  but also I don't know what constipation pain in this area is supposed to feel like as I have never dealt with that before. The only other thing I can think of is if this is the debated \n",
       "<mark class=\"entity\" style=\"background: LIGHTBLUE; padding: 0.45em 0.6em; margin: 0 0.25em; line-height: 1; border-radius: 0.35em;\">\n",
       "    chronic appendicitis\n",
       "    <span style=\"font-size: 0.8em; font-weight: bold; line-height: 1; border-radius: 0.35em; vertical-align: middle; margin-left: 0.5rem\">DISEASE</span>\n",
       "</mark>\n",
       " but I would think it would still show up on a CT scan? Also looking for recommendations on any other conditions I should be looking into.</br>I went to a gastro finally and they are going to do an ultrasound, more blood and a colonoscopy but I have to wait a few weeks to get all that done, so I'm just looking for any advice on more tests to iron out this pain and get it solved. It has been effecting my work, personal life and mental health greatly, thank you and sorry for the long read!</div></span>"
      ],
      "text/plain": [
       "<IPython.core.display.HTML object>"
      ]
     },
     "metadata": {},
     "output_type": "display_data"
    }
   ],
   "source": [
    "displacy.render(model_1(txt), style='ent', options=options) #BLANK ML MODEL"
   ]
  },
  {
   "cell_type": "markdown",
   "id": "addressed-constitution",
   "metadata": {},
   "source": [
    "### Model 1 v1: pre-trained spacy model with trained with pseudo rehearsal"
   ]
  },
  {
   "cell_type": "code",
   "execution_count": 50,
   "id": "vulnerable-dictionary",
   "metadata": {},
   "outputs": [
    {
     "data": {
      "text/html": [
       "<span class=\"tex2jax_ignore\"><div class=\"entities\" style=\"line-height: 2.5; direction: ltr\">\n",
       "<mark class=\"entity\" style=\"background: LIGHTBLUE; padding: 0.45em 0.6em; margin: 0 0.25em; line-height: 1; border-radius: 0.35em;\">\n",
       "    Chronic Appendicitis\n",
       "    <span style=\"font-size: 0.8em; font-weight: bold; line-height: 1; border-radius: 0.35em; vertical-align: middle; margin-left: 0.5rem\">DISEASE</span>\n",
       "</mark>\n",
       " or Constipation? 24 year old Male 185lbs, white. No medical history, currently taking \n",
       "<mark class=\"entity\" style=\"background: PINK; padding: 0.45em 0.6em; margin: 0 0.25em; line-height: 1; border-radius: 0.35em;\">\n",
       "    lexapro\n",
       "    <span style=\"font-size: 0.8em; font-weight: bold; line-height: 1; border-radius: 0.35em; vertical-align: middle; margin-left: 0.5rem\">DRUG</span>\n",
       "</mark>\n",
       " 10mg, probiotic  \n",
       "<mark class=\"entity\" style=\"background: PINK; padding: 0.45em 0.6em; margin: 0 0.25em; line-height: 1; border-radius: 0.35em;\">\n",
       "    ashwaghanda\n",
       "    <span style=\"font-size: 0.8em; font-weight: bold; line-height: 1; border-radius: 0.35em; vertical-align: middle; margin-left: 0.5rem\">DRUG</span>\n",
       "</mark>\n",
       " daily.</br>I have been having an ongoing issue of lower right side pain. First occurrence was 2 years ago, second was 6 months ago and third is now. Each occurrence will last a few weeks to a month. Symptoms are lower right side abdominal pain that moves from typical appendix location to my actual side and decreased appetite. No rebound pain but definitely some pain when the location receives a hard press but no pain on the rebound. Pain level hovers around a 5</br>I have been to the ER twice, an urgent care and have seen my pcp and no one can find any acute findings. I have had two CT scans that are clear and the   points out the appendix and says it looks normal. Blood tests have also been normal with slightly elevated WBCs.</br>All the doctors say I am likely experiencing constipation or gas but I always have a BM at least once a day and do not feel bloated or constipated  but also I don't know what constipation pain in this area is supposed to feel like as I have never dealt with that before. The only other thing I can think of is if this is the debated chronic \n",
       "<mark class=\"entity\" style=\"background: LIGHTBLUE; padding: 0.45em 0.6em; margin: 0 0.25em; line-height: 1; border-radius: 0.35em;\">\n",
       "    appendicitis\n",
       "    <span style=\"font-size: 0.8em; font-weight: bold; line-height: 1; border-radius: 0.35em; vertical-align: middle; margin-left: 0.5rem\">DISEASE</span>\n",
       "</mark>\n",
       " but I would think it would still show up on a CT scan? Also looking for recommendations on any other conditions I should be looking into.</br>I went to a gastro finally and they are going to do an ultrasound, more blood and a colonoscopy but I have to wait a few weeks to get all that done, so I'm just looking for any advice on more tests to iron out this pain and get it solved. It has been effecting my work, personal life and mental health greatly, thank you and sorry for the long read!</div></span>"
      ],
      "text/plain": [
       "<IPython.core.display.HTML object>"
      ]
     },
     "metadata": {},
     "output_type": "display_data"
    }
   ],
   "source": [
    "displacy.render(model_1_NS(txt), style='ent', options=options) #BLANK ML MODEL"
   ]
  },
  {
   "cell_type": "markdown",
   "id": "valued-orleans",
   "metadata": {},
   "source": [
    "### Spacy default model: en_core_web_sm"
   ]
  },
  {
   "cell_type": "code",
   "execution_count": 30,
   "id": "tamil-heath",
   "metadata": {},
   "outputs": [],
   "source": [
    "# nlp = spacy.load('en_core_web_sm')\n",
    "# displacy.render(nlp(txt), style='ent') #BLANK ML MODEL"
   ]
  },
  {
   "cell_type": "code",
   "execution_count": 31,
   "id": "decimal-exclusive",
   "metadata": {},
   "outputs": [
    {
     "data": {
      "text/html": [
       "<div>\n",
       "<style scoped>\n",
       "    .dataframe tbody tr th:only-of-type {\n",
       "        vertical-align: middle;\n",
       "    }\n",
       "\n",
       "    .dataframe tbody tr th {\n",
       "        vertical-align: top;\n",
       "    }\n",
       "\n",
       "    .dataframe thead th {\n",
       "        text-align: right;\n",
       "    }\n",
       "</style>\n",
       "<table border=\"1\" class=\"dataframe\">\n",
       "  <thead>\n",
       "    <tr style=\"text-align: right;\">\n",
       "      <th></th>\n",
       "      <th>text</th>\n",
       "      <th>model1_NS</th>\n",
       "      <th>model1_NS_v2</th>\n",
       "      <th>model1_NS_drug</th>\n",
       "    </tr>\n",
       "  </thead>\n",
       "  <tbody>\n",
       "  </tbody>\n",
       "</table>\n",
       "</div>"
      ],
      "text/plain": [
       "Empty DataFrame\n",
       "Columns: [text, model1_NS, model1_NS_v2, model1_NS_drug]\n",
       "Index: []"
      ]
     },
     "execution_count": 31,
     "metadata": {},
     "output_type": "execute_result"
    }
   ],
   "source": [
    "txt = 'bentyl'\n",
    "tmp_df[tmp_df['text'].str.lower().str.contains(txt)]"
   ]
  },
  {
   "cell_type": "code",
   "execution_count": 775,
   "id": "usual-couple",
   "metadata": {},
   "outputs": [],
   "source": [
    "test_examples = [\n",
    "    (\"Trump says he's answered Mueller's Russia inquiry questions \\u2013 live\",{\"entities\":[[0,5,\"PERSON\"],[25,32,\"PERSON\"],[35,41,\"GPE\"]]}),\n",
    "    (\"Alexander Zverev reaches ATP Finals semis then reminds Lendl who is boss\",{\"entities\":[[0,16,\"PERSON\"],[55,60,\"PERSON\"]]}),\n",
    "    (\"Britain's worst landlord to take nine years to pay off string of fines\",{\"entities\":[[0,7,\"GPE\"]]}),\n",
    "    (\"Tom Watson: people's vote more likely given weakness of May's position\",{\"entities\":[[0,10,\"PERSON\"],[56,59,\"PERSON\"]]}),\n",
    "]\n",
    "examples = []\n",
    "for raw_text, annotations in test_examples:\n",
    "    #doc = nlp.make_doc(raw_text) !Gives zeroes as output\n",
    "    doc = nlp(raw_text)\n",
    "    example = Example.from_dict(doc, annotations)\n",
    "    examples.append(example)\n",
    "\n",
    "scorer = Scorer(nlp)\n",
    "scores = scorer.score(examples)\n",
    "# print (scores)"
   ]
  },
  {
   "cell_type": "markdown",
   "id": "wrong-applicant",
   "metadata": {},
   "source": [
    "### DEBUG: Compare model1_NS_v1, model1_NS_v2"
   ]
  },
  {
   "cell_type": "code",
   "execution_count": 1028,
   "id": "north-mexican",
   "metadata": {
    "scrolled": true
   },
   "outputs": [],
   "source": [
    "label = 'DRUG'\n",
    "model = model_1\n",
    "idx=[]\n",
    "p=[]\n",
    "r=[]\n",
    "f=[]\n",
    "for i, (raw_text, annotations) in enumerate(val_data):\n",
    "    score, _ = get_example_score(model, raw_text, annotations)\n",
    "    try:\n",
    "        #print (i, score['ents_per_type'][label])\n",
    "        p.append(score['ents_per_type'][label]['p'])\n",
    "        r.append(score['ents_per_type'][label]['r'])\n",
    "        f.append(score['ents_per_type'][label]['f'])\n",
    "        idx.append(i)\n",
    "    except:\n",
    "        pass"
   ]
  },
  {
   "cell_type": "code",
   "execution_count": 1043,
   "id": "supreme-brunei",
   "metadata": {},
   "outputs": [
    {
     "data": {
      "text/plain": [
       "(106, 4)"
      ]
     },
     "execution_count": 1043,
     "metadata": {},
     "output_type": "execute_result"
    }
   ],
   "source": [
    "# score_m1_NS_df = pd.DataFrame.from_dict({'idx':idx, 'p':p, 'r':r,'f':f})\n",
    "score_m1_NS_df.shape"
   ]
  },
  {
   "cell_type": "code",
   "execution_count": 1044,
   "id": "viral-newspaper",
   "metadata": {},
   "outputs": [
    {
     "data": {
      "text/plain": [
       "(97, 4)"
      ]
     },
     "execution_count": 1044,
     "metadata": {},
     "output_type": "execute_result"
    }
   ],
   "source": [
    "# score_m1_df = pd.DataFrame.from_dict({'idx':idx, 'p':p, 'r':r,'f':f})\n",
    "score_m1_df.shape"
   ]
  },
  {
   "cell_type": "code",
   "execution_count": 1202,
   "id": "nearby-salad",
   "metadata": {},
   "outputs": [
    {
     "data": {
      "text/html": [
       "<div>\n",
       "<style scoped>\n",
       "    .dataframe tbody tr th:only-of-type {\n",
       "        vertical-align: middle;\n",
       "    }\n",
       "\n",
       "    .dataframe tbody tr th {\n",
       "        vertical-align: top;\n",
       "    }\n",
       "\n",
       "    .dataframe thead th {\n",
       "        text-align: right;\n",
       "    }\n",
       "</style>\n",
       "<table border=\"1\" class=\"dataframe\">\n",
       "  <thead>\n",
       "    <tr style=\"text-align: right;\">\n",
       "      <th></th>\n",
       "      <th>idx</th>\n",
       "      <th>p_x</th>\n",
       "      <th>r_x</th>\n",
       "      <th>f_x</th>\n",
       "      <th>p_y</th>\n",
       "      <th>r_y</th>\n",
       "      <th>f_y</th>\n",
       "    </tr>\n",
       "  </thead>\n",
       "  <tbody>\n",
       "    <tr>\n",
       "      <th>8</th>\n",
       "      <td>21</td>\n",
       "      <td>0.0</td>\n",
       "      <td>0.0</td>\n",
       "      <td>0.0</td>\n",
       "      <td>NaN</td>\n",
       "      <td>NaN</td>\n",
       "      <td>NaN</td>\n",
       "    </tr>\n",
       "    <tr>\n",
       "      <th>15</th>\n",
       "      <td>35</td>\n",
       "      <td>0.0</td>\n",
       "      <td>0.0</td>\n",
       "      <td>0.0</td>\n",
       "      <td>NaN</td>\n",
       "      <td>NaN</td>\n",
       "      <td>NaN</td>\n",
       "    </tr>\n",
       "    <tr>\n",
       "      <th>23</th>\n",
       "      <td>55</td>\n",
       "      <td>0.0</td>\n",
       "      <td>0.0</td>\n",
       "      <td>0.0</td>\n",
       "      <td>NaN</td>\n",
       "      <td>NaN</td>\n",
       "      <td>NaN</td>\n",
       "    </tr>\n",
       "    <tr>\n",
       "      <th>29</th>\n",
       "      <td>70</td>\n",
       "      <td>0.0</td>\n",
       "      <td>0.0</td>\n",
       "      <td>0.0</td>\n",
       "      <td>NaN</td>\n",
       "      <td>NaN</td>\n",
       "      <td>NaN</td>\n",
       "    </tr>\n",
       "    <tr>\n",
       "      <th>45</th>\n",
       "      <td>106</td>\n",
       "      <td>0.0</td>\n",
       "      <td>0.0</td>\n",
       "      <td>0.0</td>\n",
       "      <td>NaN</td>\n",
       "      <td>NaN</td>\n",
       "      <td>NaN</td>\n",
       "    </tr>\n",
       "    <tr>\n",
       "      <th>46</th>\n",
       "      <td>107</td>\n",
       "      <td>0.0</td>\n",
       "      <td>0.0</td>\n",
       "      <td>0.0</td>\n",
       "      <td>NaN</td>\n",
       "      <td>NaN</td>\n",
       "      <td>NaN</td>\n",
       "    </tr>\n",
       "    <tr>\n",
       "      <th>48</th>\n",
       "      <td>111</td>\n",
       "      <td>0.0</td>\n",
       "      <td>0.0</td>\n",
       "      <td>0.0</td>\n",
       "      <td>NaN</td>\n",
       "      <td>NaN</td>\n",
       "      <td>NaN</td>\n",
       "    </tr>\n",
       "    <tr>\n",
       "      <th>65</th>\n",
       "      <td>140</td>\n",
       "      <td>0.0</td>\n",
       "      <td>0.0</td>\n",
       "      <td>0.0</td>\n",
       "      <td>NaN</td>\n",
       "      <td>NaN</td>\n",
       "      <td>NaN</td>\n",
       "    </tr>\n",
       "    <tr>\n",
       "      <th>83</th>\n",
       "      <td>169</td>\n",
       "      <td>0.0</td>\n",
       "      <td>0.0</td>\n",
       "      <td>0.0</td>\n",
       "      <td>NaN</td>\n",
       "      <td>NaN</td>\n",
       "      <td>NaN</td>\n",
       "    </tr>\n",
       "    <tr>\n",
       "      <th>89</th>\n",
       "      <td>183</td>\n",
       "      <td>0.0</td>\n",
       "      <td>0.0</td>\n",
       "      <td>0.0</td>\n",
       "      <td>NaN</td>\n",
       "      <td>NaN</td>\n",
       "      <td>NaN</td>\n",
       "    </tr>\n",
       "  </tbody>\n",
       "</table>\n",
       "</div>"
      ],
      "text/plain": [
       "    idx  p_x  r_x  f_x  p_y  r_y  f_y\n",
       "8    21  0.0  0.0  0.0  NaN  NaN  NaN\n",
       "15   35  0.0  0.0  0.0  NaN  NaN  NaN\n",
       "23   55  0.0  0.0  0.0  NaN  NaN  NaN\n",
       "29   70  0.0  0.0  0.0  NaN  NaN  NaN\n",
       "45  106  0.0  0.0  0.0  NaN  NaN  NaN\n",
       "46  107  0.0  0.0  0.0  NaN  NaN  NaN\n",
       "48  111  0.0  0.0  0.0  NaN  NaN  NaN\n",
       "65  140  0.0  0.0  0.0  NaN  NaN  NaN\n",
       "83  169  0.0  0.0  0.0  NaN  NaN  NaN\n",
       "89  183  0.0  0.0  0.0  NaN  NaN  NaN"
      ]
     },
     "execution_count": 1202,
     "metadata": {},
     "output_type": "execute_result"
    }
   ],
   "source": [
    "mrgd_df = pd.merge(score_m1_NS_df, score_m1_df, how='outer', on='idx')\n",
    "mrgd_df[mrgd_df['p_y'].isnull()]\n",
    "#Indices where model_1_NS predicts some DRUG entities but none are annotated in data\n",
    "#21,  35,  55,  70, 106, 107, 111, 140, 169, 183#"
   ]
  },
  {
   "cell_type": "code",
   "execution_count": 1261,
   "id": "clean-initial",
   "metadata": {},
   "outputs": [
    {
     "data": {
      "text/html": [
       "<div>\n",
       "<style scoped>\n",
       "    .dataframe tbody tr th:only-of-type {\n",
       "        vertical-align: middle;\n",
       "    }\n",
       "\n",
       "    .dataframe tbody tr th {\n",
       "        vertical-align: top;\n",
       "    }\n",
       "\n",
       "    .dataframe thead th {\n",
       "        text-align: right;\n",
       "    }\n",
       "</style>\n",
       "<table border=\"1\" class=\"dataframe\">\n",
       "  <thead>\n",
       "    <tr style=\"text-align: right;\">\n",
       "      <th></th>\n",
       "      <th>idx</th>\n",
       "      <th>r_x</th>\n",
       "      <th>r_y</th>\n",
       "    </tr>\n",
       "  </thead>\n",
       "  <tbody>\n",
       "    <tr>\n",
       "      <th>6</th>\n",
       "      <td>18</td>\n",
       "      <td>0.500000</td>\n",
       "      <td>0.250000</td>\n",
       "    </tr>\n",
       "    <tr>\n",
       "      <th>8</th>\n",
       "      <td>23</td>\n",
       "      <td>0.833333</td>\n",
       "      <td>0.750000</td>\n",
       "    </tr>\n",
       "    <tr>\n",
       "      <th>10</th>\n",
       "      <td>27</td>\n",
       "      <td>1.000000</td>\n",
       "      <td>0.000000</td>\n",
       "    </tr>\n",
       "    <tr>\n",
       "      <th>13</th>\n",
       "      <td>33</td>\n",
       "      <td>1.000000</td>\n",
       "      <td>0.750000</td>\n",
       "    </tr>\n",
       "    <tr>\n",
       "      <th>15</th>\n",
       "      <td>38</td>\n",
       "      <td>0.400000</td>\n",
       "      <td>0.600000</td>\n",
       "    </tr>\n",
       "    <tr>\n",
       "      <th>16</th>\n",
       "      <td>43</td>\n",
       "      <td>0.333333</td>\n",
       "      <td>0.222222</td>\n",
       "    </tr>\n",
       "    <tr>\n",
       "      <th>17</th>\n",
       "      <td>44</td>\n",
       "      <td>1.000000</td>\n",
       "      <td>0.000000</td>\n",
       "    </tr>\n",
       "    <tr>\n",
       "      <th>18</th>\n",
       "      <td>49</td>\n",
       "      <td>1.000000</td>\n",
       "      <td>0.666667</td>\n",
       "    </tr>\n",
       "    <tr>\n",
       "      <th>23</th>\n",
       "      <td>66</td>\n",
       "      <td>1.000000</td>\n",
       "      <td>0.500000</td>\n",
       "    </tr>\n",
       "    <tr>\n",
       "      <th>24</th>\n",
       "      <td>67</td>\n",
       "      <td>1.000000</td>\n",
       "      <td>0.916667</td>\n",
       "    </tr>\n",
       "    <tr>\n",
       "      <th>28</th>\n",
       "      <td>76</td>\n",
       "      <td>1.000000</td>\n",
       "      <td>0.600000</td>\n",
       "    </tr>\n",
       "    <tr>\n",
       "      <th>31</th>\n",
       "      <td>80</td>\n",
       "      <td>0.000000</td>\n",
       "      <td>1.000000</td>\n",
       "    </tr>\n",
       "    <tr>\n",
       "      <th>35</th>\n",
       "      <td>94</td>\n",
       "      <td>1.000000</td>\n",
       "      <td>0.500000</td>\n",
       "    </tr>\n",
       "    <tr>\n",
       "      <th>38</th>\n",
       "      <td>101</td>\n",
       "      <td>0.333333</td>\n",
       "      <td>0.222222</td>\n",
       "    </tr>\n",
       "    <tr>\n",
       "      <th>57</th>\n",
       "      <td>139</td>\n",
       "      <td>0.600000</td>\n",
       "      <td>0.800000</td>\n",
       "    </tr>\n",
       "    <tr>\n",
       "      <th>62</th>\n",
       "      <td>148</td>\n",
       "      <td>0.500000</td>\n",
       "      <td>0.000000</td>\n",
       "    </tr>\n",
       "    <tr>\n",
       "      <th>63</th>\n",
       "      <td>151</td>\n",
       "      <td>0.000000</td>\n",
       "      <td>1.000000</td>\n",
       "    </tr>\n",
       "    <tr>\n",
       "      <th>67</th>\n",
       "      <td>157</td>\n",
       "      <td>0.500000</td>\n",
       "      <td>0.333333</td>\n",
       "    </tr>\n",
       "    <tr>\n",
       "      <th>71</th>\n",
       "      <td>162</td>\n",
       "      <td>0.666667</td>\n",
       "      <td>1.000000</td>\n",
       "    </tr>\n",
       "    <tr>\n",
       "      <th>72</th>\n",
       "      <td>164</td>\n",
       "      <td>1.000000</td>\n",
       "      <td>0.000000</td>\n",
       "    </tr>\n",
       "    <tr>\n",
       "      <th>74</th>\n",
       "      <td>168</td>\n",
       "      <td>1.000000</td>\n",
       "      <td>0.000000</td>\n",
       "    </tr>\n",
       "    <tr>\n",
       "      <th>77</th>\n",
       "      <td>173</td>\n",
       "      <td>1.000000</td>\n",
       "      <td>0.500000</td>\n",
       "    </tr>\n",
       "    <tr>\n",
       "      <th>78</th>\n",
       "      <td>174</td>\n",
       "      <td>0.000000</td>\n",
       "      <td>0.500000</td>\n",
       "    </tr>\n",
       "    <tr>\n",
       "      <th>82</th>\n",
       "      <td>186</td>\n",
       "      <td>1.000000</td>\n",
       "      <td>0.500000</td>\n",
       "    </tr>\n",
       "    <tr>\n",
       "      <th>84</th>\n",
       "      <td>189</td>\n",
       "      <td>0.333333</td>\n",
       "      <td>0.000000</td>\n",
       "    </tr>\n",
       "    <tr>\n",
       "      <th>85</th>\n",
       "      <td>191</td>\n",
       "      <td>0.666667</td>\n",
       "      <td>0.500000</td>\n",
       "    </tr>\n",
       "    <tr>\n",
       "      <th>86</th>\n",
       "      <td>194</td>\n",
       "      <td>0.400000</td>\n",
       "      <td>0.200000</td>\n",
       "    </tr>\n",
       "    <tr>\n",
       "      <th>93</th>\n",
       "      <td>207</td>\n",
       "      <td>1.000000</td>\n",
       "      <td>0.500000</td>\n",
       "    </tr>\n",
       "    <tr>\n",
       "      <th>94</th>\n",
       "      <td>208</td>\n",
       "      <td>0.666667</td>\n",
       "      <td>0.333333</td>\n",
       "    </tr>\n",
       "  </tbody>\n",
       "</table>\n",
       "</div>"
      ],
      "text/plain": [
       "    idx       r_x       r_y\n",
       "6    18  0.500000  0.250000\n",
       "8    23  0.833333  0.750000\n",
       "10   27  1.000000  0.000000\n",
       "13   33  1.000000  0.750000\n",
       "15   38  0.400000  0.600000\n",
       "16   43  0.333333  0.222222\n",
       "17   44  1.000000  0.000000\n",
       "18   49  1.000000  0.666667\n",
       "23   66  1.000000  0.500000\n",
       "24   67  1.000000  0.916667\n",
       "28   76  1.000000  0.600000\n",
       "31   80  0.000000  1.000000\n",
       "35   94  1.000000  0.500000\n",
       "38  101  0.333333  0.222222\n",
       "57  139  0.600000  0.800000\n",
       "62  148  0.500000  0.000000\n",
       "63  151  0.000000  1.000000\n",
       "67  157  0.500000  0.333333\n",
       "71  162  0.666667  1.000000\n",
       "72  164  1.000000  0.000000\n",
       "74  168  1.000000  0.000000\n",
       "77  173  1.000000  0.500000\n",
       "78  174  0.000000  0.500000\n",
       "82  186  1.000000  0.500000\n",
       "84  189  0.333333  0.000000\n",
       "85  191  0.666667  0.500000\n",
       "86  194  0.400000  0.200000\n",
       "93  207  1.000000  0.500000\n",
       "94  208  0.666667  0.333333"
      ]
     },
     "execution_count": 1261,
     "metadata": {},
     "output_type": "execute_result"
    }
   ],
   "source": [
    "mrgd_df = pd.merge(score_m1_NS_df, score_m1_df, how='inner', on='idx')\n",
    "mrgd_df[mrgd_df['r_x'] != mrgd_df['r_y']][['idx', 'r_x', 'r_y']]\n",
    "#Indices where model_1_480_NS predicts DRUG entities with higher recall than model_1_480_NS_v2\n",
    "# 18, 23, 27, 33, 38, 43, 44, 49, 66, 67, 76, 80, 94, 101, 139, 148, 151, 157, 162, 164, 168, 173, 174, 186, 189, 191, 194, 207, 208\t"
   ]
  },
  {
   "cell_type": "code",
   "execution_count": null,
   "id": "catholic-instrument",
   "metadata": {},
   "outputs": [],
   "source": []
  }
 ],
 "metadata": {
  "kernelspec": {
   "display_name": "Python 3",
   "language": "python",
   "name": "python3"
  },
  "language_info": {
   "codemirror_mode": {
    "name": "ipython",
    "version": 3
   },
   "file_extension": ".py",
   "mimetype": "text/x-python",
   "name": "python",
   "nbconvert_exporter": "python",
   "pygments_lexer": "ipython3",
   "version": "3.8.5"
  }
 },
 "nbformat": 4,
 "nbformat_minor": 5
}
