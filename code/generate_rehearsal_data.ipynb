{
 "cells": [
  {
   "cell_type": "code",
   "execution_count": 1,
   "id": "existing-force",
   "metadata": {},
   "outputs": [],
   "source": [
    "import pandas as pd\n",
    "import numpy as np\n",
    "import spacy\n",
    "from spacy import displacy"
   ]
  },
  {
   "cell_type": "code",
   "execution_count": null,
   "id": "precise-scott",
   "metadata": {},
   "outputs": [],
   "source": [
    "df = pd.read_json('./annotate_rehearsal/News_Category_Dataset_v2.json', lines=True)"
   ]
  },
  {
   "cell_type": "code",
   "execution_count": 125,
   "id": "arabic-depression",
   "metadata": {},
   "outputs": [],
   "source": [
    "np.random.seed(42)"
   ]
  },
  {
   "cell_type": "code",
   "execution_count": 127,
   "id": "inappropriate-reserve",
   "metadata": {},
   "outputs": [],
   "source": [
    "rng = list(df.index)"
   ]
  },
  {
   "cell_type": "code",
   "execution_count": 128,
   "id": "facial-breakfast",
   "metadata": {},
   "outputs": [],
   "source": [
    "np.random.shuffle(rng)"
   ]
  },
  {
   "cell_type": "code",
   "execution_count": 129,
   "id": "skilled-caribbean",
   "metadata": {},
   "outputs": [],
   "source": [
    "df1 = df.loc[rng[:1000]].copy() #train\n",
    "df2 = df.loc[rng[1000:2000]].copy() #test"
   ]
  },
  {
   "cell_type": "code",
   "execution_count": 130,
   "id": "cultural-stuart",
   "metadata": {},
   "outputs": [],
   "source": [
    "df1['text'] = df1['headline'] + '. ' + df1['short_description'] #train\n",
    "df2['text'] = df2['headline'] + '. ' + df2['short_description'] #test"
   ]
  },
  {
   "cell_type": "code",
   "execution_count": 131,
   "id": "interim-flavor",
   "metadata": {},
   "outputs": [],
   "source": [
    "nlp = spacy.load('en_core_web_sm')"
   ]
  },
  {
   "cell_type": "code",
   "execution_count": 132,
   "id": "rough-circus",
   "metadata": {},
   "outputs": [],
   "source": [
    "df1.reset_index(inplace=True)\n",
    "df2.reset_index(inplace=True)"
   ]
  },
  {
   "cell_type": "code",
   "execution_count": 133,
   "id": "dated-closing",
   "metadata": {},
   "outputs": [],
   "source": [
    "def generate_examples(df):\n",
    "    examples = []\n",
    "    for idx, doc in enumerate(nlp.pipe(df['text'])):\n",
    "        dct = {}\n",
    "        if len(doc.ents) > 0:\n",
    "            dct['text'] = doc.text\n",
    "            l = []\n",
    "            for ent in doc.ents:\n",
    "                l.append([ent.start_char, ent.end_char, ent.label_])\n",
    "            dct['label'] = l        \n",
    "            examples.append(dct)\n",
    "    return examples"
   ]
  },
  {
   "cell_type": "code",
   "execution_count": 134,
   "id": "stuck-roads",
   "metadata": {},
   "outputs": [
    {
     "data": {
      "text/plain": [
       "(840, 2)"
      ]
     },
     "execution_count": 134,
     "metadata": {},
     "output_type": "execute_result"
    }
   ],
   "source": [
    "#annotated train examples\n",
    "train_df = pd.DataFrame(generate_examples(df1))\n",
    "train_df.shape"
   ]
  },
  {
   "cell_type": "code",
   "execution_count": 143,
   "id": "pressing-yacht",
   "metadata": {},
   "outputs": [
    {
     "data": {
      "text/html": [
       "<div>\n",
       "<style scoped>\n",
       "    .dataframe tbody tr th:only-of-type {\n",
       "        vertical-align: middle;\n",
       "    }\n",
       "\n",
       "    .dataframe tbody tr th {\n",
       "        vertical-align: top;\n",
       "    }\n",
       "\n",
       "    .dataframe thead th {\n",
       "        text-align: right;\n",
       "    }\n",
       "</style>\n",
       "<table border=\"1\" class=\"dataframe\">\n",
       "  <thead>\n",
       "    <tr style=\"text-align: right;\">\n",
       "      <th></th>\n",
       "      <th>text</th>\n",
       "      <th>label</th>\n",
       "    </tr>\n",
       "  </thead>\n",
       "  <tbody>\n",
       "    <tr>\n",
       "      <th>0</th>\n",
       "      <td>Shooting Rampage Results In 'Mass Casualties' ...</td>\n",
       "      <td>[[29, 45, ORG], [49, 70, ORG], [72, 79, GPE], ...</td>\n",
       "    </tr>\n",
       "    <tr>\n",
       "      <th>1</th>\n",
       "      <td>Donald Trump Lashes Out At CNN, ABC Over Repor...</td>\n",
       "      <td>[[0, 19, PERSON], [27, 30, ORG], [32, 35, ORG]...</td>\n",
       "    </tr>\n",
       "    <tr>\n",
       "      <th>2</th>\n",
       "      <td>Model Kate Moss Walks Louis Vuitton RTW Fall 2...</td>\n",
       "      <td>[[0, 39, PERSON], [69, 73, PERSON], [121, 138,...</td>\n",
       "    </tr>\n",
       "    <tr>\n",
       "      <th>3</th>\n",
       "      <td>7 Ways Single Moms Cope With Loneliness. “Am I...</td>\n",
       "      <td>[[0, 1, CARDINAL], [99, 107, PERSON]]</td>\n",
       "    </tr>\n",
       "    <tr>\n",
       "      <th>4</th>\n",
       "      <td>Sen. Sherrod Brown: Steve Bannon 'Is A White S...</td>\n",
       "      <td>[[5, 18, PERSON], [20, 34, PERSON], [84, 100, ...</td>\n",
       "    </tr>\n",
       "  </tbody>\n",
       "</table>\n",
       "</div>"
      ],
      "text/plain": [
       "                                                text  \\\n",
       "0  Shooting Rampage Results In 'Mass Casualties' ...   \n",
       "1  Donald Trump Lashes Out At CNN, ABC Over Repor...   \n",
       "2  Model Kate Moss Walks Louis Vuitton RTW Fall 2...   \n",
       "3  7 Ways Single Moms Cope With Loneliness. “Am I...   \n",
       "4  Sen. Sherrod Brown: Steve Bannon 'Is A White S...   \n",
       "\n",
       "                                               label  \n",
       "0  [[29, 45, ORG], [49, 70, ORG], [72, 79, GPE], ...  \n",
       "1  [[0, 19, PERSON], [27, 30, ORG], [32, 35, ORG]...  \n",
       "2  [[0, 39, PERSON], [69, 73, PERSON], [121, 138,...  \n",
       "3              [[0, 1, CARDINAL], [99, 107, PERSON]]  \n",
       "4  [[5, 18, PERSON], [20, 34, PERSON], [84, 100, ...  "
      ]
     },
     "execution_count": 143,
     "metadata": {},
     "output_type": "execute_result"
    }
   ],
   "source": [
    "train_df.head()"
   ]
  },
  {
   "cell_type": "code",
   "execution_count": 135,
   "id": "formed-majority",
   "metadata": {},
   "outputs": [
    {
     "data": {
      "text/plain": [
       "(831, 2)"
      ]
     },
     "execution_count": 135,
     "metadata": {},
     "output_type": "execute_result"
    }
   ],
   "source": [
    "#annotated test examples\n",
    "test_df = pd.DataFrame(generate_examples(df2))\n",
    "test_df.shape"
   ]
  },
  {
   "cell_type": "code",
   "execution_count": 144,
   "id": "associate-daisy",
   "metadata": {},
   "outputs": [
    {
     "data": {
      "text/html": [
       "<div>\n",
       "<style scoped>\n",
       "    .dataframe tbody tr th:only-of-type {\n",
       "        vertical-align: middle;\n",
       "    }\n",
       "\n",
       "    .dataframe tbody tr th {\n",
       "        vertical-align: top;\n",
       "    }\n",
       "\n",
       "    .dataframe thead th {\n",
       "        text-align: right;\n",
       "    }\n",
       "</style>\n",
       "<table border=\"1\" class=\"dataframe\">\n",
       "  <thead>\n",
       "    <tr style=\"text-align: right;\">\n",
       "      <th></th>\n",
       "      <th>text</th>\n",
       "      <th>label</th>\n",
       "    </tr>\n",
       "  </thead>\n",
       "  <tbody>\n",
       "    <tr>\n",
       "      <th>0</th>\n",
       "      <td>Why Your Body, Mind and Soul Will Love the Cen...</td>\n",
       "      <td>[[261, 272, DATE]]</td>\n",
       "    </tr>\n",
       "    <tr>\n",
       "      <th>1</th>\n",
       "      <td>11 Ways To Turn Up A Down Day. Logy, low, and ...</td>\n",
       "      <td>[[0, 2, CARDINAL]]</td>\n",
       "    </tr>\n",
       "    <tr>\n",
       "      <th>2</th>\n",
       "      <td>A Thank You Note to the Serengeti. \"Are you na...</td>\n",
       "      <td>[[24, 33, PERSON], [205, 216, PERSON], [224, 2...</td>\n",
       "    </tr>\n",
       "    <tr>\n",
       "      <th>3</th>\n",
       "      <td>Progressive Canadian Leader: Justin Trudeau Sh...</td>\n",
       "      <td>[[12, 20, NORP], [29, 43, PERSON], [65, 77, PE...</td>\n",
       "    </tr>\n",
       "    <tr>\n",
       "      <th>4</th>\n",
       "      <td>Hundreds of Toddlers Said to Be Taken Into Cus...</td>\n",
       "      <td>[[0, 8, CARDINAL], [12, 20, ORG], [58, 64, GPE]]</td>\n",
       "    </tr>\n",
       "  </tbody>\n",
       "</table>\n",
       "</div>"
      ],
      "text/plain": [
       "                                                text  \\\n",
       "0  Why Your Body, Mind and Soul Will Love the Cen...   \n",
       "1  11 Ways To Turn Up A Down Day. Logy, low, and ...   \n",
       "2  A Thank You Note to the Serengeti. \"Are you na...   \n",
       "3  Progressive Canadian Leader: Justin Trudeau Sh...   \n",
       "4  Hundreds of Toddlers Said to Be Taken Into Cus...   \n",
       "\n",
       "                                               label  \n",
       "0                                 [[261, 272, DATE]]  \n",
       "1                                 [[0, 2, CARDINAL]]  \n",
       "2  [[24, 33, PERSON], [205, 216, PERSON], [224, 2...  \n",
       "3  [[12, 20, NORP], [29, 43, PERSON], [65, 77, PE...  \n",
       "4   [[0, 8, CARDINAL], [12, 20, ORG], [58, 64, GPE]]  "
      ]
     },
     "execution_count": 144,
     "metadata": {},
     "output_type": "execute_result"
    }
   ],
   "source": [
    "test_df.head()"
   ]
  },
  {
   "cell_type": "code",
   "execution_count": 136,
   "id": "prompt-johnson",
   "metadata": {},
   "outputs": [],
   "source": [
    "train_df[:200].to_json(f'nlp_rehearsal_200.json', orient='records', lines=True)\n",
    "train_df.to_json(f'nlp_rehearsal_1000.json', orient='records', lines=True)"
   ]
  },
  {
   "cell_type": "code",
   "execution_count": 137,
   "id": "intimate-confidence",
   "metadata": {},
   "outputs": [],
   "source": [
    "test_df.to_json(f'test_nlp_rehearsal_1000.json', orient='records', lines=True)"
   ]
  },
  {
   "cell_type": "code",
   "execution_count": 138,
   "id": "fabulous-copper",
   "metadata": {},
   "outputs": [],
   "source": [
    "idx = 2\n",
    "txt = examples_df['text'].loc[idx]"
   ]
  },
  {
   "cell_type": "code",
   "execution_count": 139,
   "id": "informed-monte",
   "metadata": {},
   "outputs": [
    {
     "data": {
      "text/html": [
       "<span class=\"tex2jax_ignore\"><div class=\"entities\" style=\"line-height: 2.5; direction: ltr\">\n",
       "<mark class=\"entity\" style=\"background: #aa9cfc; padding: 0.45em 0.6em; margin: 0 0.25em; line-height: 1; border-radius: 0.35em;\">\n",
       "    Model Kate Moss Walks Louis Vuitton RTW\n",
       "    <span style=\"font-size: 0.8em; font-weight: bold; line-height: 1; border-radius: 0.35em; vertical-align: middle; margin-left: 0.5rem\">PERSON</span>\n",
       "</mark>\n",
       " Fall 2013. Golden girl model \n",
       "<mark class=\"entity\" style=\"background: #aa9cfc; padding: 0.45em 0.6em; margin: 0 0.25em; line-height: 1; border-radius: 0.35em;\">\n",
       "    Kate\n",
       "    <span style=\"font-size: 0.8em; font-weight: bold; line-height: 1; border-radius: 0.35em; vertical-align: middle; margin-left: 0.5rem\">PERSON</span>\n",
       "</mark>\n",
       " Moss wowed in her usual chic way as she walked \n",
       "<mark class=\"entity\" style=\"background: #7aecec; padding: 0.45em 0.6em; margin: 0 0.25em; line-height: 1; border-radius: 0.35em;\">\n",
       "    the Louis Vuitton\n",
       "    <span style=\"font-size: 0.8em; font-weight: bold; line-height: 1; border-radius: 0.35em; vertical-align: middle; margin-left: 0.5rem\">ORG</span>\n",
       "</mark>\n",
       " Ready-To-Wear Fall Collection 2013 fashion show. Moss continues to give us a close look at her ability to inspire while wearing all things gorgeous. Yes, absolutely \n",
       "<mark class=\"entity\" style=\"background: #aa9cfc; padding: 0.45em 0.6em; margin: 0 0.25em; line-height: 1; border-radius: 0.35em;\">\n",
       "    Louis Vuitton\n",
       "    <span style=\"font-size: 0.8em; font-weight: bold; line-height: 1; border-radius: 0.35em; vertical-align: middle; margin-left: 0.5rem\">PERSON</span>\n",
       "</mark>\n",
       " gorgeous.</div></span>"
      ],
      "text/plain": [
       "<IPython.core.display.HTML object>"
      ]
     },
     "metadata": {},
     "output_type": "display_data"
    }
   ],
   "source": [
    "# Entities generated by default spacy model given original text\n",
    "displacy.render(nlp(txt), style='ent')"
   ]
  },
  {
   "cell_type": "code",
   "execution_count": 140,
   "id": "acute-scholarship",
   "metadata": {},
   "outputs": [
    {
     "data": {
      "text/plain": [
       "'Model Kate Moss Walks Louis Vuitton RTW Fall 2013. Golden girl model Kate Moss wowed in her usual chic way as she walked the Louis Vuitton Ready-To-Wear Fall Collection 2013 fashion show. Moss continues to give us a close look at her ability to inspire while wearing all things gorgeous. Yes, absolutely Louis Vuitton gorgeous.'"
      ]
     },
     "execution_count": 140,
     "metadata": {},
     "output_type": "execute_result"
    }
   ],
   "source": [
    "df1.loc[idx, 'text']"
   ]
  },
  {
   "cell_type": "code",
   "execution_count": 141,
   "id": "massive-clearance",
   "metadata": {},
   "outputs": [],
   "source": [
    "df1.head();"
   ]
  },
  {
   "cell_type": "code",
   "execution_count": 142,
   "id": "outdoor-experience",
   "metadata": {},
   "outputs": [
    {
     "data": {
      "text/html": [
       "<span class=\"tex2jax_ignore\"><div class=\"entities\" style=\"line-height: 2.5; direction: ltr\">\n",
       "<mark class=\"entity\" style=\"background: #aa9cfc; padding: 0.45em 0.6em; margin: 0 0.25em; line-height: 1; border-radius: 0.35em;\">\n",
       "    Model Kate Moss\n",
       "    <span style=\"font-size: 0.8em; font-weight: bold; line-height: 1; border-radius: 0.35em; vertical-align: middle; margin-left: 0.5rem\">PERSON</span>\n",
       "</mark>\n",
       " walks \n",
       "<mark class=\"entity\" style=\"background: #aa9cfc; padding: 0.45em 0.6em; margin: 0 0.25em; line-height: 1; border-radius: 0.35em;\">\n",
       "    Louis Vuitton\n",
       "    <span style=\"font-size: 0.8em; font-weight: bold; line-height: 1; border-radius: 0.35em; vertical-align: middle; margin-left: 0.5rem\">PERSON</span>\n",
       "</mark>\n",
       " RTW Fall 2013. Golden girl model \n",
       "<mark class=\"entity\" style=\"background: #aa9cfc; padding: 0.45em 0.6em; margin: 0 0.25em; line-height: 1; border-radius: 0.35em;\">\n",
       "    Kate\n",
       "    <span style=\"font-size: 0.8em; font-weight: bold; line-height: 1; border-radius: 0.35em; vertical-align: middle; margin-left: 0.5rem\">PERSON</span>\n",
       "</mark>\n",
       " Moss wowed in her usual chic way as she walked \n",
       "<mark class=\"entity\" style=\"background: #7aecec; padding: 0.45em 0.6em; margin: 0 0.25em; line-height: 1; border-radius: 0.35em;\">\n",
       "    the Louis Vuitton\n",
       "    <span style=\"font-size: 0.8em; font-weight: bold; line-height: 1; border-radius: 0.35em; vertical-align: middle; margin-left: 0.5rem\">ORG</span>\n",
       "</mark>\n",
       " Ready-To-Wear Fall Collection 2013 fashion show. Moss continues to give us a close look at her ability to inspire while wearing all things gorgeous. Yes, absolutely \n",
       "<mark class=\"entity\" style=\"background: #aa9cfc; padding: 0.45em 0.6em; margin: 0 0.25em; line-height: 1; border-radius: 0.35em;\">\n",
       "    Louis Vuitton\n",
       "    <span style=\"font-size: 0.8em; font-weight: bold; line-height: 1; border-radius: 0.35em; vertical-align: middle; margin-left: 0.5rem\">PERSON</span>\n",
       "</mark>\n",
       " gorgeous.</div></span>"
      ],
      "text/plain": [
       "<IPython.core.display.HTML object>"
      ]
     },
     "metadata": {},
     "output_type": "display_data"
    }
   ],
   "source": [
    "# Entities produced by spacy using modified text capitalization\n",
    "displacy.render(nlp('Model Kate Moss walks Louis Vuitton RTW Fall 2013. Golden girl model Kate Moss wowed in her usual chic way as she walked the Louis Vuitton Ready-To-Wear Fall Collection 2013 fashion show. Moss continues to give us a close look at her ability to inspire while wearing all things gorgeous. Yes, absolutely Louis Vuitton gorgeous.'), \n",
    "                style='ent')"
   ]
  },
  {
   "cell_type": "code",
   "execution_count": 115,
   "id": "imported-botswana",
   "metadata": {
    "scrolled": false
   },
   "outputs": [],
   "source": [
    "# for idx, doc in enumerate (nlp.pipe(examples_df['text'][:200])):\n",
    "#     for ent in doc.ents:\n",
    "#         if ent.label_ == 'GPE':\n",
    "#             print (idx, doc)\n",
    "#             break"
   ]
  },
  {
   "cell_type": "code",
   "execution_count": null,
   "id": "specialized-draft",
   "metadata": {},
   "outputs": [],
   "source": []
  }
 ],
 "metadata": {
  "kernelspec": {
   "display_name": "Python 3",
   "language": "python",
   "name": "python3"
  },
  "language_info": {
   "codemirror_mode": {
    "name": "ipython",
    "version": 3
   },
   "file_extension": ".py",
   "mimetype": "text/x-python",
   "name": "python",
   "nbconvert_exporter": "python",
   "pygments_lexer": "ipython3",
   "version": "3.8.5"
  }
 },
 "nbformat": 4,
 "nbformat_minor": 5
}
